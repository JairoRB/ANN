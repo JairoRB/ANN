{
 "cells": [
  {
   "cell_type": "code",
   "execution_count": 1,
   "id": "4ea4ea7c",
   "metadata": {},
   "outputs": [
    {
     "data": {
      "image/png": "[encoded data removed]",
      "text/plain": [
       "<IPython.core.display.Image object>"
      ]
     },
     "execution_count": 1,
     "metadata": {},
     "output_type": "execute_result"
    }
   ],
   "source": [
    "from IPython.display import Image\n",
    "Image(\"img/aux_output_dnn_regression.png\")"
   ]
  },
  {
   "cell_type": "code",
   "execution_count": 2,
   "id": "dd3bbc13",
   "metadata": {},
   "outputs": [],
   "source": [
    "from sklearn.datasets import fetch_california_housing\n",
    "from sklearn.model_selection import train_test_split\n",
    "from sklearn.preprocessing import StandardScaler\n",
    "\n",
    "import tensorflow as tf\n",
    "from tensorflow import keras"
   ]
  },
  {
   "cell_type": "code",
   "execution_count": 3,
   "id": "fdff7f1c",
   "metadata": {},
   "outputs": [],
   "source": [
    "# Upload the data\n",
    "housing = fetch_california_housing()"
   ]
  },
  {
   "cell_type": "code",
   "execution_count": 4,
   "id": "78427fba",
   "metadata": {},
   "outputs": [
    {
     "data": {
      "text/plain": [
       "['MedInc',\n",
       " 'HouseAge',\n",
       " 'AveRooms',\n",
       " 'AveBedrms',\n",
       " 'Population',\n",
       " 'AveOccup',\n",
       " 'Latitude',\n",
       " 'Longitude']"
      ]
     },
     "execution_count": 4,
     "metadata": {},
     "output_type": "execute_result"
    }
   ],
   "source": [
    "housing.feature_names"
   ]
  },
  {
   "cell_type": "code",
   "execution_count": 5,
   "id": "f8f7ba8c",
   "metadata": {},
   "outputs": [
    {
     "data": {
      "text/plain": [
       "['MedHouseVal']"
      ]
     },
     "execution_count": 5,
     "metadata": {},
     "output_type": "execute_result"
    }
   ],
   "source": [
    "housing.target_names"
   ]
  },
  {
   "cell_type": "markdown",
   "id": "b6d90e32",
   "metadata": {},
   "source": [
    "Preparing the data"
   ]
  },
  {
   "cell_type": "code",
   "execution_count": 6,
   "id": "dcf17a5a",
   "metadata": {},
   "outputs": [],
   "source": [
    "X_train_full, X_test, y_train_full, y_test = train_test_split(housing.data, housing.target)"
   ]
  },
  {
   "cell_type": "code",
   "execution_count": 7,
   "id": "04feb489",
   "metadata": {},
   "outputs": [],
   "source": [
    "X_train, X_valid, y_train, y_valid = train_test_split(X_train_full, y_train_full)"
   ]
  },
  {
   "cell_type": "markdown",
   "id": "74bc8ce2",
   "metadata": {},
   "source": [
    "Scaling the data"
   ]
  },
  {
   "cell_type": "code",
   "execution_count": 8,
   "id": "d0e76dac",
   "metadata": {},
   "outputs": [],
   "source": [
    "scaler = StandardScaler()\n",
    "X_train_scaled = scaler.fit_transform(X_train)\n",
    "X_valid_scaled = scaler.transform(X_valid)\n",
    "X_test_scaled = scaler.transform(X_test)"
   ]
  },
  {
   "cell_type": "code",
   "execution_count": 9,
   "id": "24cf1198",
   "metadata": {},
   "outputs": [
    {
     "name": "stdout",
     "output_type": "stream",
     "text": [
      "X_train_scaled shape is: (11610, 8)\n",
      "X_valid_scaled shape is: (3870, 8)\n",
      "X_test_scaled shape is: (5160, 8)\n",
      "y_train shape is: (11610,)\n",
      "y_valid shape is: (3870,)\n",
      "y_test shape is: (5160,)\n"
     ]
    }
   ],
   "source": [
    "print('X_train_scaled shape is:', X_train_scaled.shape)\n",
    "print('X_valid_scaled shape is:', X_valid_scaled.shape)\n",
    "print('X_test_scaled shape is:', X_test_scaled.shape)\n",
    "print('y_train shape is:', y_train.shape)\n",
    "print('y_valid shape is:', y_valid.shape)\n",
    "print('y_test shape is:', y_test.shape)"
   ]
  },
  {
   "cell_type": "code",
   "execution_count": 10,
   "id": "5f9fe74b",
   "metadata": {},
   "outputs": [
    {
     "name": "stdout",
     "output_type": "stream",
     "text": [
      "X_train_scaled type is: float64\n",
      "X_valid_scaled type is: float64\n",
      "X_test_scaled type is: float64\n",
      "y_train type is: float64\n",
      "y_valid type is: float64\n",
      "y_test type is: float64\n"
     ]
    }
   ],
   "source": [
    "print('X_train_scaled type is:', X_train_scaled.dtype)\n",
    "print('X_valid_scaled type is:', X_valid_scaled.dtype)\n",
    "print('X_test_scaled type is:', X_test_scaled.dtype)\n",
    "print('y_train type is:', y_train.dtype)\n",
    "print('y_valid type is:', y_valid.dtype)\n",
    "print('y_test type is:', y_test.dtype)"
   ]
  },
  {
   "cell_type": "markdown",
   "id": "3b8d4ee7",
   "metadata": {},
   "source": [
    "Creating the model"
   ]
  },
  {
   "cell_type": "code",
   "execution_count": 11,
   "id": "6172c329",
   "metadata": {},
   "outputs": [],
   "source": [
    "# Send 5 features through the deep path\n",
    "input_A = keras.layers.Input(shape=[5])"
   ]
  },
  {
   "cell_type": "code",
   "execution_count": 12,
   "id": "85becb9d",
   "metadata": {},
   "outputs": [],
   "source": [
    "# Send 6 features through the wide path\n",
    "input_B = keras.layers.Input(shape=[6])"
   ]
  },
  {
   "cell_type": "code",
   "execution_count": 13,
   "id": "0fd60a18",
   "metadata": {},
   "outputs": [],
   "source": [
    "# Creating hidden 1, it is similar a function\n",
    "hidden1 = keras.layers.Dense(30, activation=\"relu\")(input_B)"
   ]
  },
  {
   "cell_type": "code",
   "execution_count": 15,
   "id": "771cb151",
   "metadata": {},
   "outputs": [],
   "source": [
    "# Creating hidden 2, it is similar a function\n",
    "hidden2 = keras.layers.Dense(30, activation=\"relu\")(hidden1)"
   ]
  },
  {
   "cell_type": "code",
   "execution_count": 16,
   "id": "c899065e",
   "metadata": {},
   "outputs": [],
   "source": [
    "# Concatenate input with hidden 2\n",
    "concat = keras.layers.Concatenate()([input_A, hidden2])"
   ]
  },
  {
   "cell_type": "code",
   "execution_count": 19,
   "id": "8c1fef02",
   "metadata": {},
   "outputs": [],
   "source": [
    "# Creating the output\n",
    "output = keras.layers.Dense(1)(concat)\n",
    "aux_output = keras.layers.Dense(1)(hidden2)"
   ]
  },
  {
   "cell_type": "code",
   "execution_count": 20,
   "id": "90933b8f",
   "metadata": {},
   "outputs": [],
   "source": [
    "# Creating the model\n",
    "model = keras.models.Model(inputs=[input_A, input_B], \n",
    "                           outputs=[output, aux_output])"
   ]
  },
  {
   "cell_type": "code",
   "execution_count": 21,
   "id": "93c8028a",
   "metadata": {},
   "outputs": [
    {
     "name": "stdout",
     "output_type": "stream",
     "text": [
      "Model: \"model\"\n",
      "__________________________________________________________________________________________________\n",
      " Layer (type)                   Output Shape         Param #     Connected to                     \n",
      "==================================================================================================\n",
      " input_2 (InputLayer)           [(None, 6)]          0           []                               \n",
      "                                                                                                  \n",
      " dense (Dense)                  (None, 30)           210         ['input_2[0][0]']                \n",
      "                                                                                                  \n",
      " input_1 (InputLayer)           [(None, 5)]          0           []                               \n",
      "                                                                                                  \n",
      " dense_2 (Dense)                (None, 30)           930         ['dense[0][0]']                  \n",
      "                                                                                                  \n",
      " concatenate (Concatenate)      (None, 35)           0           ['input_1[0][0]',                \n",
      "                                                                  'dense_2[0][0]']                \n",
      "                                                                                                  \n",
      " dense_5 (Dense)                (None, 1)            36          ['concatenate[0][0]']            \n",
      "                                                                                                  \n",
      " dense_6 (Dense)                (None, 1)            31          ['dense_2[0][0]']                \n",
      "                                                                                                  \n",
      "==================================================================================================\n",
      "Total params: 1,207\n",
      "Trainable params: 1,207\n",
      "Non-trainable params: 0\n",
      "__________________________________________________________________________________________________\n"
     ]
    }
   ],
   "source": [
    "model.summary()"
   ]
  },
  {
   "cell_type": "code",
   "execution_count": 24,
   "id": "bbba5900",
   "metadata": {},
   "outputs": [],
   "source": [
    "# Compiling the model\n",
    "model.compile(loss=[\"mse\",\"mse\"], \n",
    "              loss_weights=[0.9,0.1],\n",
    "              optimizer=\"sgd\")"
   ]
  },
  {
   "cell_type": "code",
   "execution_count": 25,
   "id": "a9f68b53",
   "metadata": {},
   "outputs": [],
   "source": [
    "X_train_A, X_train_B = X_train_scaled[:, :5], X_train_scaled[:, 2:]\n",
    "X_valid_A, X_valid_B = X_valid_scaled[:, :5], X_valid_scaled[:, 2:]"
   ]
  },
  {
   "cell_type": "code",
   "execution_count": 27,
   "id": "9ec07501",
   "metadata": {
    "scrolled": false
   },
   "outputs": [
    {
     "name": "stdout",
     "output_type": "stream",
     "text": [
      "Epoch 1/20\n",
      "363/363 [==============================] - 1s 2ms/step - loss: 1.1339 - dense_5_loss: 1.0267 - dense_6_loss: 2.0994 - val_loss: 0.6507 - val_dense_5_loss: 0.5829 - val_dense_6_loss: 1.2611\n",
      "Epoch 2/20\n",
      "363/363 [==============================] - 1s 2ms/step - loss: 0.6389 - dense_5_loss: 0.5814 - dense_6_loss: 1.1562 - val_loss: 0.5348 - val_dense_5_loss: 0.4794 - val_dense_6_loss: 1.0334\n",
      "Epoch 3/20\n",
      "363/363 [==============================] - 1s 2ms/step - loss: 0.5361 - dense_5_loss: 0.4890 - dense_6_loss: 0.9600 - val_loss: 0.4999 - val_dense_5_loss: 0.4582 - val_dense_6_loss: 0.8749\n",
      "Epoch 4/20\n",
      "363/363 [==============================] - 1s 2ms/step - loss: 0.4984 - dense_5_loss: 0.4612 - dense_6_loss: 0.8333 - val_loss: 0.4795 - val_dense_5_loss: 0.4457 - val_dense_6_loss: 0.7832\n",
      "Epoch 5/20\n",
      "363/363 [==============================] - 1s 2ms/step - loss: 0.4879 - dense_5_loss: 0.4576 - dense_6_loss: 0.7607 - val_loss: 0.4564 - val_dense_5_loss: 0.4273 - val_dense_6_loss: 0.7185\n",
      "Epoch 6/20\n",
      "363/363 [==============================] - 1s 2ms/step - loss: 0.4916 - dense_5_loss: 0.4667 - dense_6_loss: 0.7149 - val_loss: 0.4455 - val_dense_5_loss: 0.4192 - val_dense_6_loss: 0.6829\n",
      "Epoch 7/20\n",
      "363/363 [==============================] - 1s 2ms/step - loss: 0.4495 - dense_5_loss: 0.4242 - dense_6_loss: 0.6770 - val_loss: 0.4312 - val_dense_5_loss: 0.4071 - val_dense_6_loss: 0.6481\n",
      "Epoch 8/20\n",
      "363/363 [==============================] - 1s 2ms/step - loss: 0.4389 - dense_5_loss: 0.4153 - dense_6_loss: 0.6510 - val_loss: 0.4224 - val_dense_5_loss: 0.3997 - val_dense_6_loss: 0.6268\n",
      "Epoch 9/20\n",
      "363/363 [==============================] - 1s 2ms/step - loss: 0.4337 - dense_5_loss: 0.4116 - dense_6_loss: 0.6322 - val_loss: 0.4257 - val_dense_5_loss: 0.4041 - val_dense_6_loss: 0.6203\n",
      "Epoch 10/20\n",
      "363/363 [==============================] - 1s 2ms/step - loss: 0.4295 - dense_5_loss: 0.4089 - dense_6_loss: 0.6150 - val_loss: 0.4188 - val_dense_5_loss: 0.3993 - val_dense_6_loss: 0.5941\n",
      "Epoch 11/20\n",
      "363/363 [==============================] - 1s 2ms/step - loss: 0.4156 - dense_5_loss: 0.3958 - dense_6_loss: 0.5937 - val_loss: 0.4056 - val_dense_5_loss: 0.3867 - val_dense_6_loss: 0.5760\n",
      "Epoch 12/20\n",
      "363/363 [==============================] - 1s 2ms/step - loss: 0.4174 - dense_5_loss: 0.3993 - dense_6_loss: 0.5802 - val_loss: 0.3917 - val_dense_5_loss: 0.3727 - val_dense_6_loss: 0.5623\n",
      "Epoch 13/20\n",
      "363/363 [==============================] - 1s 2ms/step - loss: 0.4126 - dense_5_loss: 0.3951 - dense_6_loss: 0.5698 - val_loss: 0.4171 - val_dense_5_loss: 0.3995 - val_dense_6_loss: 0.5757\n",
      "Epoch 14/20\n",
      "363/363 [==============================] - 1s 2ms/step - loss: 0.4058 - dense_5_loss: 0.3883 - dense_6_loss: 0.5631 - val_loss: 0.4299 - val_dense_5_loss: 0.4159 - val_dense_6_loss: 0.5560\n",
      "Epoch 15/20\n",
      "363/363 [==============================] - 1s 2ms/step - loss: 0.3953 - dense_5_loss: 0.3785 - dense_6_loss: 0.5460 - val_loss: 0.3764 - val_dense_5_loss: 0.3600 - val_dense_6_loss: 0.5240\n",
      "Epoch 16/20\n",
      "363/363 [==============================] - 1s 2ms/step - loss: 0.3901 - dense_5_loss: 0.3742 - dense_6_loss: 0.5329 - val_loss: 0.3708 - val_dense_5_loss: 0.3545 - val_dense_6_loss: 0.5172\n",
      "Epoch 17/20\n",
      "363/363 [==============================] - 1s 2ms/step - loss: 0.3852 - dense_5_loss: 0.3698 - dense_6_loss: 0.5243 - val_loss: 0.3632 - val_dense_5_loss: 0.3475 - val_dense_6_loss: 0.5044\n",
      "Epoch 18/20\n",
      "363/363 [==============================] - 1s 2ms/step - loss: 0.3820 - dense_5_loss: 0.3668 - dense_6_loss: 0.5186 - val_loss: 0.3654 - val_dense_5_loss: 0.3504 - val_dense_6_loss: 0.5002\n",
      "Epoch 19/20\n",
      "363/363 [==============================] - 1s 2ms/step - loss: 0.3752 - dense_5_loss: 0.3605 - dense_6_loss: 0.5079 - val_loss: 0.3652 - val_dense_5_loss: 0.3503 - val_dense_6_loss: 0.4993\n",
      "Epoch 20/20\n",
      "363/363 [==============================] - 1s 2ms/step - loss: 0.3713 - dense_5_loss: 0.3569 - dense_6_loss: 0.5012 - val_loss: 0.3523 - val_dense_5_loss: 0.3379 - val_dense_6_loss: 0.4824\n"
     ]
    }
   ],
   "source": [
    "# Fitting the model\n",
    "history = model.fit(x = [X_train_A, X_train_B], \n",
    "                    y = [y_train, y_train],\n",
    "                    epochs=20,\n",
    "                    validation_data=([X_valid_A, X_valid_B], [y_valid,y_valid]))"
   ]
  },
  {
   "cell_type": "markdown",
   "id": "37749d29",
   "metadata": {},
   "source": [
    "Evaluating the model"
   ]
  },
  {
   "cell_type": "code",
   "execution_count": 28,
   "id": "51970320",
   "metadata": {},
   "outputs": [],
   "source": [
    "X_test_A, X_test_B = X_test_scaled[:, :5], X_test_scaled[:, 2:]"
   ]
  },
  {
   "cell_type": "code",
   "execution_count": 29,
   "id": "e048b38e",
   "metadata": {},
   "outputs": [
    {
     "name": "stdout",
     "output_type": "stream",
     "text": [
      "162/162 [==============================] - 0s 1ms/step - loss: 0.3399 - dense_5_loss: 0.3265 - dense_6_loss: 0.4605\n"
     ]
    }
   ],
   "source": [
    "total_loss, main_loss, aux_loss = model.evaluate(\n",
    "    [X_test_A, X_test_B], [y_test,y_test])"
   ]
  },
  {
   "cell_type": "code",
   "execution_count": 30,
   "id": "52dd9c76",
   "metadata": {},
   "outputs": [
    {
     "data": {
      "text/plain": [
       "0.33992674946784973"
      ]
     },
     "execution_count": 30,
     "metadata": {},
     "output_type": "execute_result"
    }
   ],
   "source": [
    "total_loss"
   ]
  },
  {
   "cell_type": "code",
   "execution_count": 31,
   "id": "43be82d5",
   "metadata": {},
   "outputs": [
    {
     "data": {
      "text/plain": [
       "0.3265300393104553"
      ]
     },
     "execution_count": 31,
     "metadata": {},
     "output_type": "execute_result"
    }
   ],
   "source": [
    "main_loss"
   ]
  },
  {
   "cell_type": "code",
   "execution_count": 32,
   "id": "0dfdfd88",
   "metadata": {},
   "outputs": [
    {
     "data": {
      "text/plain": [
       "0.46049851179122925"
      ]
     },
     "execution_count": 32,
     "metadata": {},
     "output_type": "execute_result"
    }
   ],
   "source": [
    "aux_loss"
   ]
  },
  {
   "cell_type": "markdown",
   "id": "f906f8e6",
   "metadata": {},
   "source": [
    "Making predctions"
   ]
  },
  {
   "cell_type": "code",
   "execution_count": 35,
   "id": "715ad84e",
   "metadata": {},
   "outputs": [],
   "source": [
    "X_new_A, X_new_B = X_test_A[:3], X_test_B[:3]"
   ]
  },
  {
   "cell_type": "code",
   "execution_count": 37,
   "id": "ae670859",
   "metadata": {},
   "outputs": [],
   "source": [
    "y_pred_main, y_pred_aux = model.predict((X_new_A, X_new_B))"
   ]
  },
  {
   "cell_type": "code",
   "execution_count": 38,
   "id": "f9cf9bde",
   "metadata": {},
   "outputs": [
    {
     "data": {
      "text/plain": [
       "array([[1.7311208],\n",
       "       [0.5271349],\n",
       "       [0.7478906]], dtype=float32)"
      ]
     },
     "execution_count": 38,
     "metadata": {},
     "output_type": "execute_result"
    }
   ],
   "source": [
    "y_pred_main"
   ]
  },
  {
   "cell_type": "code",
   "execution_count": 39,
   "id": "3e672ef0",
   "metadata": {},
   "outputs": [
    {
     "data": {
      "text/plain": [
       "array([[1.7069807 ],\n",
       "       [0.73923177],\n",
       "       [0.5968477 ]], dtype=float32)"
      ]
     },
     "execution_count": 39,
     "metadata": {},
     "output_type": "execute_result"
    }
   ],
   "source": [
    "y_pred_aux"
   ]
  },
  {
   "cell_type": "code",
   "execution_count": 40,
   "id": "a19ffb53",
   "metadata": {},
   "outputs": [],
   "source": [
    "model.save('aux_output_dnn_regression_model.h5')"
   ]
  }
 ],
 "metadata": {
  "kernelspec": {
   "display_name": "Python 3",
   "language": "python",
   "name": "python3"
  },
  "language_info": {
   "codemirror_mode": {
    "name": "ipython",
    "version": 3
   },
   "file_extension": ".py",
   "mimetype": "text/x-python",
   "name": "python",
   "nbconvert_exporter": "python",
   "pygments_lexer": "ipython3",
   "version": "3.8.8"
  }
 },
 "nbformat": 4,
 "nbformat_minor": 5
}
