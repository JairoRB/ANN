{
 "cells": [
  {
   "cell_type": "code",
   "execution_count": 2,
   "id": "d0279293",
   "metadata": {},
   "outputs": [
    {
     "data": {
      "text/plain": [
       "'2.7.0'"
      ]
     },
     "execution_count": 2,
     "metadata": {},
     "output_type": "execute_result"
    }
   ],
   "source": [
    "import tensorflow as tf\n",
    "tf.__version__"
   ]
  },
  {
   "cell_type": "code",
   "execution_count": 3,
   "id": "5ef47813",
   "metadata": {},
   "outputs": [
    {
     "data": {
      "text/plain": [
       "'2.7.0'"
      ]
     },
     "execution_count": 3,
     "metadata": {},
     "output_type": "execute_result"
    }
   ],
   "source": [
    "from tensorflow import keras\n",
    "keras.__version__"
   ]
  },
  {
   "cell_type": "code",
   "execution_count": 4,
   "id": "6d607a71",
   "metadata": {},
   "outputs": [],
   "source": [
    "fashion_mnist = keras.datasets.fashion_mnist\n",
    "(X_train_full, y_train_full), (X_test, y_test) = fashion_mnist.load_data()"
   ]
  },
  {
   "cell_type": "code",
   "execution_count": 5,
   "id": "5439ca0f",
   "metadata": {},
   "outputs": [
    {
     "name": "stdout",
     "output_type": "stream",
     "text": [
      "X_train_full shape is: (60000, 28, 28)\n",
      "y_train_full shape is: (60000,)\n",
      "X_test shape is: (10000, 28, 28)\n",
      "y_test shape is: (10000,)\n"
     ]
    }
   ],
   "source": [
    "print('X_train_full shape is:', X_train_full.shape)\n",
    "print('y_train_full shape is:', y_train_full.shape)\n",
    "print('X_test shape is:', X_test.shape)\n",
    "print('y_test shape is:', y_test.shape)"
   ]
  },
  {
   "cell_type": "code",
   "execution_count": 6,
   "id": "de2703ce",
   "metadata": {},
   "outputs": [
    {
     "name": "stdout",
     "output_type": "stream",
     "text": [
      "X_train_full type is: uint8\n",
      "y_train_full type is: uint8\n",
      "X_test type is: uint8\n",
      "y_test type is: uint8\n"
     ]
    }
   ],
   "source": [
    "print('X_train_full type is:', X_train_full.dtype)\n",
    "print('y_train_full type is:', y_train_full.dtype)\n",
    "print('X_test type is:', X_test.dtype)\n",
    "print('y_test type is:', y_test.dtype)"
   ]
  },
  {
   "cell_type": "code",
   "execution_count": 7,
   "id": "a8fc489f",
   "metadata": {},
   "outputs": [],
   "source": [
    "X_valid, X_train = X_train_full[:5000] / 255.0, X_train_full[5000:] / 255.0\n",
    "y_valid, y_train = y_train_full[:5000], y_train_full[5000:]"
   ]
  },
  {
   "cell_type": "code",
   "execution_count": 8,
   "id": "1d7aa0bb",
   "metadata": {},
   "outputs": [
    {
     "name": "stdout",
     "output_type": "stream",
     "text": [
      "X_valid shape is: (5000, 28, 28)\n",
      "X_train shape is: (55000, 28, 28)\n",
      "y_valid shape is: (5000,)\n",
      "y_train shape is: (55000,)\n"
     ]
    }
   ],
   "source": [
    "print('X_valid shape is:', X_valid.shape)\n",
    "print('X_train shape is:', X_train.shape)\n",
    "print('y_valid shape is:', y_valid.shape)\n",
    "print('y_train shape is:', y_train.shape)"
   ]
  },
  {
   "cell_type": "code",
   "execution_count": 9,
   "id": "95991d71",
   "metadata": {},
   "outputs": [
    {
     "name": "stdout",
     "output_type": "stream",
     "text": [
      "X_valid type is: float64\n",
      "X_train type is: float64\n",
      "y_valid type is: uint8\n",
      "y_train type is: uint8\n"
     ]
    }
   ],
   "source": [
    "print('X_valid type is:', X_valid.dtype)\n",
    "print('X_train type is:', X_train.dtype)\n",
    "print('y_valid type is:', y_valid.dtype)\n",
    "print('y_train type is:', y_train.dtype)"
   ]
  },
  {
   "cell_type": "code",
   "execution_count": 10,
   "id": "e3020cc6",
   "metadata": {},
   "outputs": [],
   "source": [
    "class_names = [\"T-shirt/top\", \"Trouser\", \"Pullover\", \"Dress\", \"Coat\",\n",
    "\"Sandal\", \"Shirt\", \"Sneaker\", \"Bag\", \"Ankle boot\"]"
   ]
  },
  {
   "cell_type": "code",
   "execution_count": 11,
   "id": "1dd47972",
   "metadata": {},
   "outputs": [
    {
     "data": {
      "text/plain": [
       "'Coat'"
      ]
     },
     "execution_count": 11,
     "metadata": {},
     "output_type": "execute_result"
    }
   ],
   "source": [
    "class_names[y_train[0]]"
   ]
  },
  {
   "cell_type": "markdown",
   "id": "d100aec9",
   "metadata": {},
   "source": [
    "Creating the model"
   ]
  },
  {
   "cell_type": "code",
   "execution_count": 12,
   "id": "f830e233",
   "metadata": {},
   "outputs": [],
   "source": [
    "model = keras.models.Sequential([\n",
    "    # First layer and add it to the model\n",
    "    keras.layers.Flatten(input_shape=[28, 28]),\n",
    "    # Add Dense hidden layer with 300 neurons\n",
    "    keras.layers.Dense(300, activation=\"relu\"),\n",
    "    # Add second Dense hidden with 100 neurons\n",
    "    keras.layers.Dense(100, activation=\"relu\"),\n",
    "    # Add Dense ouput layer with 10 neurons\n",
    "    keras.layers.Dense(10, activation=\"softmax\")\n",
    "])"
   ]
  },
  {
   "cell_type": "code",
   "execution_count": 13,
   "id": "177cb255",
   "metadata": {},
   "outputs": [
    {
     "name": "stdout",
     "output_type": "stream",
     "text": [
      "Model: \"sequential\"\n",
      "_________________________________________________________________\n",
      " Layer (type)                Output Shape              Param #   \n",
      "=================================================================\n",
      " flatten (Flatten)           (None, 784)               0         \n",
      "                                                                 \n",
      " dense (Dense)               (None, 300)               235500    \n",
      "                                                                 \n",
      " dense_1 (Dense)             (None, 100)               30100     \n",
      "                                                                 \n",
      " dense_2 (Dense)             (None, 10)                1010      \n",
      "                                                                 \n",
      "=================================================================\n",
      "Total params: 266,610\n",
      "Trainable params: 266,610\n",
      "Non-trainable params: 0\n",
      "_________________________________________________________________\n"
     ]
    }
   ],
   "source": [
    "model.summary()"
   ]
  },
  {
   "cell_type": "markdown",
   "id": "93da505a",
   "metadata": {},
   "source": [
    "Layers"
   ]
  },
  {
   "cell_type": "code",
   "execution_count": 14,
   "id": "607e4f3b",
   "metadata": {},
   "outputs": [
    {
     "data": {
      "text/plain": [
       "[<keras.layers.core.flatten.Flatten at 0x1b0ae908310>,\n",
       " <keras.layers.core.dense.Dense at 0x1b0ae91b820>,\n",
       " <keras.layers.core.dense.Dense at 0x1b0ae91bb50>,\n",
       " <keras.layers.core.dense.Dense at 0x1b0ae91be20>]"
      ]
     },
     "execution_count": 14,
     "metadata": {},
     "output_type": "execute_result"
    }
   ],
   "source": [
    "model.layers"
   ]
  },
  {
   "cell_type": "code",
   "execution_count": 15,
   "id": "0a4d3366",
   "metadata": {},
   "outputs": [
    {
     "data": {
      "text/plain": [
       "'dense_2'"
      ]
     },
     "execution_count": 15,
     "metadata": {},
     "output_type": "execute_result"
    }
   ],
   "source": [
    "model.layers[3].name"
   ]
  },
  {
   "cell_type": "code",
   "execution_count": 16,
   "id": "56a22509",
   "metadata": {},
   "outputs": [
    {
     "data": {
      "text/plain": [
       "'dense_2'"
      ]
     },
     "execution_count": 16,
     "metadata": {},
     "output_type": "execute_result"
    }
   ],
   "source": [
    "model.get_layer('dense_2').name"
   ]
  },
  {
   "cell_type": "markdown",
   "id": "28e7af12",
   "metadata": {},
   "source": [
    "Weigths"
   ]
  },
  {
   "cell_type": "code",
   "execution_count": 17,
   "id": "01c3bdae",
   "metadata": {},
   "outputs": [],
   "source": [
    "weights = model.get_weights()[0]"
   ]
  },
  {
   "cell_type": "code",
   "execution_count": 18,
   "id": "0f6fbbbd",
   "metadata": {},
   "outputs": [],
   "source": [
    "biases = model.get_weights()[1]"
   ]
  },
  {
   "cell_type": "code",
   "execution_count": 19,
   "id": "bfb5c82c",
   "metadata": {},
   "outputs": [
    {
     "data": {
      "text/plain": [
       "(784, 300)"
      ]
     },
     "execution_count": 19,
     "metadata": {},
     "output_type": "execute_result"
    }
   ],
   "source": [
    "weights.shape"
   ]
  },
  {
   "cell_type": "code",
   "execution_count": 20,
   "id": "b162b8ce",
   "metadata": {},
   "outputs": [
    {
     "data": {
      "text/plain": [
       "(300,)"
      ]
     },
     "execution_count": 20,
     "metadata": {},
     "output_type": "execute_result"
    }
   ],
   "source": [
    "biases.shape"
   ]
  },
  {
   "cell_type": "markdown",
   "id": "6839c852",
   "metadata": {},
   "source": [
    "Compling the model"
   ]
  },
  {
   "cell_type": "code",
   "execution_count": 21,
   "id": "fb8a1396",
   "metadata": {},
   "outputs": [],
   "source": [
    "model.compile(optimizer=\"sgd\",\n",
    "              loss=\"sparse_categorical_crossentropy\",\n",
    "              metrics=[\"accuracy\"])"
   ]
  },
  {
   "cell_type": "markdown",
   "id": "2629a140",
   "metadata": {},
   "source": [
    "Training and evaluating the model"
   ]
  },
  {
   "cell_type": "code",
   "execution_count": 22,
   "id": "d2e49ee3",
   "metadata": {},
   "outputs": [
    {
     "name": "stdout",
     "output_type": "stream",
     "text": [
      "Epoch 1/50\n",
      "1719/1719 [==============================] - 3s 1ms/step - loss: 0.7210 - accuracy: 0.7640 - val_loss: 0.5086 - val_accuracy: 0.8310\n",
      "Epoch 2/50\n",
      "1719/1719 [==============================] - 2s 1ms/step - loss: 0.4877 - accuracy: 0.8304 - val_loss: 0.4618 - val_accuracy: 0.8402\n",
      "Epoch 3/50\n",
      "1719/1719 [==============================] - 2s 1ms/step - loss: 0.4428 - accuracy: 0.8443 - val_loss: 0.4160 - val_accuracy: 0.8588\n",
      "Epoch 4/50\n",
      "1719/1719 [==============================] - 2s 1ms/step - loss: 0.4147 - accuracy: 0.8542 - val_loss: 0.3975 - val_accuracy: 0.8652\n",
      "Epoch 5/50\n",
      "1719/1719 [==============================] - 2s 1ms/step - loss: 0.3947 - accuracy: 0.8594 - val_loss: 0.3946 - val_accuracy: 0.8640\n",
      "Epoch 6/50\n",
      "1719/1719 [==============================] - 2s 1ms/step - loss: 0.3787 - accuracy: 0.8662 - val_loss: 0.3784 - val_accuracy: 0.8712\n",
      "Epoch 7/50\n",
      "1719/1719 [==============================] - 2s 1ms/step - loss: 0.3656 - accuracy: 0.8715 - val_loss: 0.3818 - val_accuracy: 0.8638\n",
      "Epoch 8/50\n",
      "1719/1719 [==============================] - 2s 1ms/step - loss: 0.3527 - accuracy: 0.8745 - val_loss: 0.3505 - val_accuracy: 0.8772\n",
      "Epoch 9/50\n",
      "1719/1719 [==============================] - 2s 1ms/step - loss: 0.3437 - accuracy: 0.8771 - val_loss: 0.3554 - val_accuracy: 0.8758\n",
      "Epoch 10/50\n",
      "1719/1719 [==============================] - 2s 1ms/step - loss: 0.3337 - accuracy: 0.8807 - val_loss: 0.3517 - val_accuracy: 0.8780\n",
      "Epoch 11/50\n",
      "1719/1719 [==============================] - 2s 1ms/step - loss: 0.3259 - accuracy: 0.8839 - val_loss: 0.3468 - val_accuracy: 0.8802\n",
      "Epoch 12/50\n",
      "1719/1719 [==============================] - 2s 1ms/step - loss: 0.3173 - accuracy: 0.8864 - val_loss: 0.3503 - val_accuracy: 0.8764\n",
      "Epoch 13/50\n",
      "1719/1719 [==============================] - 2s 1ms/step - loss: 0.3109 - accuracy: 0.8888 - val_loss: 0.3294 - val_accuracy: 0.8840\n",
      "Epoch 14/50\n",
      "1719/1719 [==============================] - 2s 1ms/step - loss: 0.3037 - accuracy: 0.8920 - val_loss: 0.3271 - val_accuracy: 0.8854\n",
      "Epoch 15/50\n",
      "1719/1719 [==============================] - 2s 1ms/step - loss: 0.2969 - accuracy: 0.8931 - val_loss: 0.3377 - val_accuracy: 0.8806\n",
      "Epoch 16/50\n",
      "1719/1719 [==============================] - 2s 1ms/step - loss: 0.2904 - accuracy: 0.8960 - val_loss: 0.3184 - val_accuracy: 0.8894\n",
      "Epoch 17/50\n",
      "1719/1719 [==============================] - 2s 1ms/step - loss: 0.2853 - accuracy: 0.8989 - val_loss: 0.3161 - val_accuracy: 0.8840\n",
      "Epoch 18/50\n",
      "1719/1719 [==============================] - 2s 1ms/step - loss: 0.2807 - accuracy: 0.8996 - val_loss: 0.3186 - val_accuracy: 0.8840\n",
      "Epoch 19/50\n",
      "1719/1719 [==============================] - 2s 1ms/step - loss: 0.2737 - accuracy: 0.9011 - val_loss: 0.3086 - val_accuracy: 0.8882\n",
      "Epoch 20/50\n",
      "1719/1719 [==============================] - 3s 1ms/step - loss: 0.2696 - accuracy: 0.9024 - val_loss: 0.3076 - val_accuracy: 0.8880\n",
      "Epoch 21/50\n",
      "1719/1719 [==============================] - 3s 1ms/step - loss: 0.2639 - accuracy: 0.9049 - val_loss: 0.2986 - val_accuracy: 0.8902\n",
      "Epoch 22/50\n",
      "1719/1719 [==============================] - 2s 1ms/step - loss: 0.2596 - accuracy: 0.9075 - val_loss: 0.2971 - val_accuracy: 0.8922\n",
      "Epoch 23/50\n",
      "1719/1719 [==============================] - 3s 2ms/step - loss: 0.2544 - accuracy: 0.9087 - val_loss: 0.3195 - val_accuracy: 0.8866\n",
      "Epoch 24/50\n",
      "1719/1719 [==============================] - 3s 2ms/step - loss: 0.2509 - accuracy: 0.9100 - val_loss: 0.3022 - val_accuracy: 0.8894\n",
      "Epoch 25/50\n",
      "1719/1719 [==============================] - 3s 2ms/step - loss: 0.2465 - accuracy: 0.9115 - val_loss: 0.3058 - val_accuracy: 0.8898\n",
      "Epoch 26/50\n",
      "1719/1719 [==============================] - 3s 2ms/step - loss: 0.2414 - accuracy: 0.9129 - val_loss: 0.2941 - val_accuracy: 0.8930\n",
      "Epoch 27/50\n",
      "1719/1719 [==============================] - 3s 2ms/step - loss: 0.2382 - accuracy: 0.9141 - val_loss: 0.2972 - val_accuracy: 0.8948\n",
      "Epoch 28/50\n",
      "1719/1719 [==============================] - 3s 2ms/step - loss: 0.2339 - accuracy: 0.9168 - val_loss: 0.3037 - val_accuracy: 0.8922\n",
      "Epoch 29/50\n",
      "1719/1719 [==============================] - 3s 2ms/step - loss: 0.2313 - accuracy: 0.9175 - val_loss: 0.2927 - val_accuracy: 0.8934\n",
      "Epoch 30/50\n",
      "1719/1719 [==============================] - 3s 2ms/step - loss: 0.2267 - accuracy: 0.9182 - val_loss: 0.2944 - val_accuracy: 0.8908\n",
      "Epoch 31/50\n",
      "1719/1719 [==============================] - 3s 2ms/step - loss: 0.2226 - accuracy: 0.9196 - val_loss: 0.3158 - val_accuracy: 0.8830\n",
      "Epoch 32/50\n",
      "1719/1719 [==============================] - 3s 2ms/step - loss: 0.2188 - accuracy: 0.9211 - val_loss: 0.2909 - val_accuracy: 0.8954\n",
      "Epoch 33/50\n",
      "1719/1719 [==============================] - 3s 2ms/step - loss: 0.2162 - accuracy: 0.9230 - val_loss: 0.2847 - val_accuracy: 0.8990\n",
      "Epoch 34/50\n",
      "1719/1719 [==============================] - 3s 2ms/step - loss: 0.2132 - accuracy: 0.9239 - val_loss: 0.2928 - val_accuracy: 0.8958\n",
      "Epoch 35/50\n",
      "1719/1719 [==============================] - 3s 2ms/step - loss: 0.2091 - accuracy: 0.9245 - val_loss: 0.2979 - val_accuracy: 0.8886\n",
      "Epoch 36/50\n",
      "1719/1719 [==============================] - 3s 1ms/step - loss: 0.2065 - accuracy: 0.9257 - val_loss: 0.3029 - val_accuracy: 0.8914\n",
      "Epoch 37/50\n",
      "1719/1719 [==============================] - 3s 1ms/step - loss: 0.2019 - accuracy: 0.9277 - val_loss: 0.2998 - val_accuracy: 0.8964\n",
      "Epoch 38/50\n",
      "1719/1719 [==============================] - 3s 1ms/step - loss: 0.1992 - accuracy: 0.9291 - val_loss: 0.2918 - val_accuracy: 0.8978\n",
      "Epoch 39/50\n",
      "1719/1719 [==============================] - 3s 1ms/step - loss: 0.1966 - accuracy: 0.9303 - val_loss: 0.2903 - val_accuracy: 0.8996\n",
      "Epoch 40/50\n",
      "1719/1719 [==============================] - 3s 1ms/step - loss: 0.1930 - accuracy: 0.9311 - val_loss: 0.2999 - val_accuracy: 0.8900\n",
      "Epoch 41/50\n",
      "1719/1719 [==============================] - 3s 1ms/step - loss: 0.1899 - accuracy: 0.9328 - val_loss: 0.3207 - val_accuracy: 0.8824\n",
      "Epoch 42/50\n",
      "1719/1719 [==============================] - 3s 1ms/step - loss: 0.1864 - accuracy: 0.9333 - val_loss: 0.2886 - val_accuracy: 0.8960\n",
      "Epoch 43/50\n",
      "1719/1719 [==============================] - 3s 1ms/step - loss: 0.1838 - accuracy: 0.9343 - val_loss: 0.2881 - val_accuracy: 0.8936\n",
      "Epoch 44/50\n",
      "1719/1719 [==============================] - 3s 1ms/step - loss: 0.1811 - accuracy: 0.9358 - val_loss: 0.2871 - val_accuracy: 0.8964\n",
      "Epoch 45/50\n",
      "1719/1719 [==============================] - 3s 1ms/step - loss: 0.1781 - accuracy: 0.9361 - val_loss: 0.2954 - val_accuracy: 0.8960\n",
      "Epoch 46/50\n",
      "1719/1719 [==============================] - 3s 1ms/step - loss: 0.1755 - accuracy: 0.9373 - val_loss: 0.2820 - val_accuracy: 0.8976\n",
      "Epoch 47/50\n",
      "1719/1719 [==============================] - 3s 2ms/step - loss: 0.1734 - accuracy: 0.9389 - val_loss: 0.2826 - val_accuracy: 0.8998\n",
      "Epoch 48/50\n",
      "1719/1719 [==============================] - 3s 2ms/step - loss: 0.1702 - accuracy: 0.9395 - val_loss: 0.2947 - val_accuracy: 0.8918\n",
      "Epoch 49/50\n",
      "1719/1719 [==============================] - 3s 2ms/step - loss: 0.1683 - accuracy: 0.9403 - val_loss: 0.3134 - val_accuracy: 0.8912\n",
      "Epoch 50/50\n",
      "1719/1719 [==============================] - 3s 2ms/step - loss: 0.1653 - accuracy: 0.9413 - val_loss: 0.2876 - val_accuracy: 0.8982\n"
     ]
    }
   ],
   "source": [
    "history = model.fit(x = X_train,\n",
    "                    y = y_train,\n",
    "                    epochs= 50, \n",
    "                    batch_size = 32,\n",
    "                    validation_data=(X_valid, y_valid))"
   ]
  },
  {
   "cell_type": "code",
   "execution_count": 23,
   "id": "36ce54ca",
   "metadata": {},
   "outputs": [
    {
     "data": {
      "image/png": "[encoded data removed]",
      "text/plain": [
       "<Figure size 576x360 with 1 Axes>"
      ]
     },
     "metadata": {
      "needs_background": "light"
     },
     "output_type": "display_data"
    }
   ],
   "source": [
    "import pandas as pd\n",
    "import matplotlib.pyplot as plt\n",
    "pd.DataFrame(history.history).plot(figsize=(8, 5))\n",
    "plt.grid(True)\n",
    "plt.gca().set_ylim(0, 1) # set the vertical range to [0-1]\n",
    "plt.show()"
   ]
  },
  {
   "cell_type": "code",
   "execution_count": 27,
   "id": "7f0a011f",
   "metadata": {},
   "outputs": [
    {
     "name": "stdout",
     "output_type": "stream",
     "text": [
      "313/313 [==============================] - 0s 1ms/step - loss: 64.5377 - accuracy: 0.8570\n"
     ]
    },
    {
     "data": {
      "text/plain": [
       "[64.53765106201172, 0.8569999933242798]"
      ]
     },
     "execution_count": 27,
     "metadata": {},
     "output_type": "execute_result"
    }
   ],
   "source": [
    "# Generalization error\n",
    "model.evaluate(X_test, y_test, batch_size=32)"
   ]
  },
  {
   "cell_type": "markdown",
   "id": "644d5398",
   "metadata": {},
   "source": [
    "Making predictions"
   ]
  },
  {
   "cell_type": "code",
   "execution_count": 37,
   "id": "04507856",
   "metadata": {},
   "outputs": [
    {
     "data": {
      "text/plain": [
       "array([[[0, 0, 0, ..., 0, 0, 0],\n",
       "        [0, 0, 0, ..., 0, 0, 0],\n",
       "        [0, 0, 0, ..., 0, 0, 0],\n",
       "        ...,\n",
       "        [0, 0, 0, ..., 0, 0, 0],\n",
       "        [0, 0, 0, ..., 0, 0, 0],\n",
       "        [0, 0, 0, ..., 0, 0, 0]],\n",
       "\n",
       "       [[0, 0, 0, ..., 0, 0, 0],\n",
       "        [0, 0, 0, ..., 0, 0, 0],\n",
       "        [0, 0, 0, ..., 0, 0, 0],\n",
       "        ...,\n",
       "        [0, 0, 0, ..., 0, 0, 0],\n",
       "        [0, 0, 0, ..., 0, 0, 0],\n",
       "        [0, 0, 0, ..., 0, 0, 0]]], dtype=uint8)"
      ]
     },
     "execution_count": 37,
     "metadata": {},
     "output_type": "execute_result"
    }
   ],
   "source": [
    "X_new = X_test[:2]\n",
    "X_new"
   ]
  },
  {
   "cell_type": "code",
   "execution_count": 44,
   "id": "410d6e71",
   "metadata": {},
   "outputs": [
    {
     "data": {
      "text/plain": [
       "array([[0., 0., 0., 0., 0., 0., 0., 0., 0., 1.],\n",
       "       [0., 0., 1., 0., 0., 0., 0., 0., 0., 0.]], dtype=float32)"
      ]
     },
     "execution_count": 44,
     "metadata": {},
     "output_type": "execute_result"
    }
   ],
   "source": [
    "y_pred = model.predict(X_new)\n",
    "y_pred"
   ]
  },
  {
   "cell_type": "code",
   "execution_count": 51,
   "id": "c9f65c7c",
   "metadata": {},
   "outputs": [
    {
     "data": {
      "text/plain": [
       "array([9, 2], dtype=int64)"
      ]
     },
     "execution_count": 51,
     "metadata": {},
     "output_type": "execute_result"
    }
   ],
   "source": [
    "import numpy as np\n",
    "class_pred = np.argmax(y_pred, axis=-1)\n",
    "class_pred"
   ]
  },
  {
   "cell_type": "code",
   "execution_count": 89,
   "id": "329aea2f",
   "metadata": {},
   "outputs": [
    {
     "data": {
      "text/plain": [
       "['Ankle boot', 'Pullover']"
      ]
     },
     "execution_count": 89,
     "metadata": {},
     "output_type": "execute_result"
    }
   ],
   "source": [
    "class_names_pred = [class_names[a] for a in class_pred]\n",
    "class_names_pred"
   ]
  },
  {
   "cell_type": "markdown",
   "id": "7f266f49",
   "metadata": {},
   "source": [
    "Guardando el modelo"
   ]
  },
  {
   "cell_type": "code",
   "execution_count": 91,
   "id": "127670e5",
   "metadata": {},
   "outputs": [],
   "source": [
    "model.save('ann_classifier_model.h5')"
   ]
  }
 ],
 "metadata": {
  "kernelspec": {
   "display_name": "Python 3",
   "language": "python",
   "name": "python3"
  },
  "language_info": {
   "codemirror_mode": {
    "name": "ipython",
    "version": 3
   },
   "file_extension": ".py",
   "mimetype": "text/x-python",
   "name": "python",
   "nbconvert_exporter": "python",
   "pygments_lexer": "ipython3",
   "version": "3.8.8"
  }
 },
 "nbformat": 4,
 "nbformat_minor": 5
}
